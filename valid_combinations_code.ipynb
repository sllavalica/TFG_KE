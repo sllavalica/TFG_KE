{
 "cells": [
  {
   "cell_type": "code",
   "execution_count": 1,
   "metadata": {},
   "outputs": [
    {
     "name": "stdout",
     "output_type": "stream",
     "text": [
      "[('JJ', 'NN'), ('JJ', 'NNS'), ('JJ', 'NNP'), ('JJ', 'NNPS'), ('JJR', 'NN'), ('JJR', 'NNS'), ('JJR', 'NNP'), ('JJR', 'NNPS'), ('JJS', 'NN'), ('JJS', 'NNS'), ('JJS', 'NNP'), ('JJS', 'NNPS'), ('NN', 'NN'), ('NN', 'NNS'), ('NN', 'NNP'), ('NN', 'NNPS'), ('NNS', 'NN'), ('NNS', 'NNS'), ('NNS', 'NNP'), ('NNS', 'NNPS'), ('NNP', 'NN'), ('NNP', 'NNS'), ('NNP', 'NNP'), ('NNP', 'NNPS'), ('NNPS', 'NN'), ('NNPS', 'NNS'), ('NNPS', 'NNP'), ('NNPS', 'NNPS'), ('JJ', 'JJ', 'NN'), ('JJ', 'JJ', 'NNS'), ('JJ', 'JJ', 'NNP'), ('JJ', 'JJ', 'NNPS'), ('JJ', 'JJR', 'NN'), ('JJ', 'JJR', 'NNS'), ('JJ', 'JJR', 'NNP'), ('JJ', 'JJR', 'NNPS'), ('JJ', 'JJS', 'NN'), ('JJ', 'JJS', 'NNS'), ('JJ', 'JJS', 'NNP'), ('JJ', 'JJS', 'NNPS'), ('JJR', 'JJ', 'NN'), ('JJR', 'JJ', 'NNS'), ('JJR', 'JJ', 'NNP'), ('JJR', 'JJ', 'NNPS'), ('JJR', 'JJR', 'NN'), ('JJR', 'JJR', 'NNS'), ('JJR', 'JJR', 'NNP'), ('JJR', 'JJR', 'NNPS'), ('JJR', 'JJS', 'NN'), ('JJR', 'JJS', 'NNS'), ('JJR', 'JJS', 'NNP'), ('JJR', 'JJS', 'NNPS'), ('JJS', 'JJ', 'NN'), ('JJS', 'JJ', 'NNS'), ('JJS', 'JJ', 'NNP'), ('JJS', 'JJ', 'NNPS'), ('JJS', 'JJR', 'NN'), ('JJS', 'JJR', 'NNS'), ('JJS', 'JJR', 'NNP'), ('JJS', 'JJR', 'NNPS'), ('JJS', 'JJS', 'NN'), ('JJS', 'JJS', 'NNS'), ('JJS', 'JJS', 'NNP'), ('JJS', 'JJS', 'NNPS'), ('JJ', 'NN', 'NN'), ('JJ', 'NN', 'NNS'), ('JJ', 'NN', 'NNP'), ('JJ', 'NN', 'NNPS'), ('JJ', 'NNS', 'NN'), ('JJ', 'NNS', 'NNS'), ('JJ', 'NNS', 'NNP'), ('JJ', 'NNS', 'NNPS'), ('JJ', 'NNP', 'NN'), ('JJ', 'NNP', 'NNS'), ('JJ', 'NNP', 'NNP'), ('JJ', 'NNP', 'NNPS'), ('JJ', 'NNPS', 'NN'), ('JJ', 'NNPS', 'NNS'), ('JJ', 'NNPS', 'NNP'), ('JJ', 'NNPS', 'NNPS'), ('JJR', 'NN', 'NN'), ('JJR', 'NN', 'NNS'), ('JJR', 'NN', 'NNP'), ('JJR', 'NN', 'NNPS'), ('JJR', 'NNS', 'NN'), ('JJR', 'NNS', 'NNS'), ('JJR', 'NNS', 'NNP'), ('JJR', 'NNS', 'NNPS'), ('JJR', 'NNP', 'NN'), ('JJR', 'NNP', 'NNS'), ('JJR', 'NNP', 'NNP'), ('JJR', 'NNP', 'NNPS'), ('JJR', 'NNPS', 'NN'), ('JJR', 'NNPS', 'NNS'), ('JJR', 'NNPS', 'NNP'), ('JJR', 'NNPS', 'NNPS'), ('JJS', 'NN', 'NN'), ('JJS', 'NN', 'NNS'), ('JJS', 'NN', 'NNP'), ('JJS', 'NN', 'NNPS'), ('JJS', 'NNS', 'NN'), ('JJS', 'NNS', 'NNS'), ('JJS', 'NNS', 'NNP'), ('JJS', 'NNS', 'NNPS'), ('JJS', 'NNP', 'NN'), ('JJS', 'NNP', 'NNS'), ('JJS', 'NNP', 'NNP'), ('JJS', 'NNP', 'NNPS'), ('JJS', 'NNPS', 'NN'), ('JJS', 'NNPS', 'NNS'), ('JJS', 'NNPS', 'NNP'), ('JJS', 'NNPS', 'NNPS'), ('NN', 'JJ', 'NN'), ('NN', 'JJ', 'NNS'), ('NN', 'JJ', 'NNP'), ('NN', 'JJ', 'NNPS'), ('NN', 'JJR', 'NN'), ('NN', 'JJR', 'NNS'), ('NN', 'JJR', 'NNP'), ('NN', 'JJR', 'NNPS'), ('NN', 'JJS', 'NN'), ('NN', 'JJS', 'NNS'), ('NN', 'JJS', 'NNP'), ('NN', 'JJS', 'NNPS'), ('NNS', 'JJ', 'NN'), ('NNS', 'JJ', 'NNS'), ('NNS', 'JJ', 'NNP'), ('NNS', 'JJ', 'NNPS'), ('NNS', 'JJR', 'NN'), ('NNS', 'JJR', 'NNS'), ('NNS', 'JJR', 'NNP'), ('NNS', 'JJR', 'NNPS'), ('NNS', 'JJS', 'NN'), ('NNS', 'JJS', 'NNS'), ('NNS', 'JJS', 'NNP'), ('NNS', 'JJS', 'NNPS'), ('NNP', 'JJ', 'NN'), ('NNP', 'JJ', 'NNS'), ('NNP', 'JJ', 'NNP'), ('NNP', 'JJ', 'NNPS'), ('NNP', 'JJR', 'NN'), ('NNP', 'JJR', 'NNS'), ('NNP', 'JJR', 'NNP'), ('NNP', 'JJR', 'NNPS'), ('NNP', 'JJS', 'NN'), ('NNP', 'JJS', 'NNS'), ('NNP', 'JJS', 'NNP'), ('NNP', 'JJS', 'NNPS'), ('NNPS', 'JJ', 'NN'), ('NNPS', 'JJ', 'NNS'), ('NNPS', 'JJ', 'NNP'), ('NNPS', 'JJ', 'NNPS'), ('NNPS', 'JJR', 'NN'), ('NNPS', 'JJR', 'NNS'), ('NNPS', 'JJR', 'NNP'), ('NNPS', 'JJR', 'NNPS'), ('NNPS', 'JJS', 'NN'), ('NNPS', 'JJS', 'NNS'), ('NNPS', 'JJS', 'NNP'), ('NNPS', 'JJS', 'NNPS'), ('NN', 'NN', 'NN'), ('NN', 'NN', 'NNS'), ('NN', 'NN', 'NNP'), ('NN', 'NN', 'NNPS'), ('NN', 'NNS', 'NN'), ('NN', 'NNS', 'NNS'), ('NN', 'NNS', 'NNP'), ('NN', 'NNS', 'NNPS'), ('NN', 'NNP', 'NN'), ('NN', 'NNP', 'NNS'), ('NN', 'NNP', 'NNP'), ('NN', 'NNP', 'NNPS'), ('NN', 'NNPS', 'NN'), ('NN', 'NNPS', 'NNS'), ('NN', 'NNPS', 'NNP'), ('NN', 'NNPS', 'NNPS'), ('NNS', 'NN', 'NN'), ('NNS', 'NN', 'NNS'), ('NNS', 'NN', 'NNP'), ('NNS', 'NN', 'NNPS'), ('NNS', 'NNS', 'NN'), ('NNS', 'NNS', 'NNS'), ('NNS', 'NNS', 'NNP'), ('NNS', 'NNS', 'NNPS'), ('NNS', 'NNP', 'NN'), ('NNS', 'NNP', 'NNS'), ('NNS', 'NNP', 'NNP'), ('NNS', 'NNP', 'NNPS'), ('NNS', 'NNPS', 'NN'), ('NNS', 'NNPS', 'NNS'), ('NNS', 'NNPS', 'NNP'), ('NNS', 'NNPS', 'NNPS'), ('NNP', 'NN', 'NN'), ('NNP', 'NN', 'NNS'), ('NNP', 'NN', 'NNP'), ('NNP', 'NN', 'NNPS'), ('NNP', 'NNS', 'NN'), ('NNP', 'NNS', 'NNS'), ('NNP', 'NNS', 'NNP'), ('NNP', 'NNS', 'NNPS'), ('NNP', 'NNP', 'NN'), ('NNP', 'NNP', 'NNS'), ('NNP', 'NNP', 'NNP'), ('NNP', 'NNP', 'NNPS'), ('NNP', 'NNPS', 'NN'), ('NNP', 'NNPS', 'NNS'), ('NNP', 'NNPS', 'NNP'), ('NNP', 'NNPS', 'NNPS'), ('NNPS', 'NN', 'NN'), ('NNPS', 'NN', 'NNS'), ('NNPS', 'NN', 'NNP'), ('NNPS', 'NN', 'NNPS'), ('NNPS', 'NNS', 'NN'), ('NNPS', 'NNS', 'NNS'), ('NNPS', 'NNS', 'NNP'), ('NNPS', 'NNS', 'NNPS'), ('NNPS', 'NNP', 'NN'), ('NNPS', 'NNP', 'NNS'), ('NNPS', 'NNP', 'NNP'), ('NNPS', 'NNP', 'NNPS'), ('NNPS', 'NNPS', 'NN'), ('NNPS', 'NNPS', 'NNS'), ('NNPS', 'NNPS', 'NNP'), ('NNPS', 'NNPS', 'NNPS'), ('NN', 'IN', 'NN'), ('NN', 'IN', 'NNS'), ('NN', 'IN', 'NNP'), ('NN', 'IN', 'NNPS'), ('NNS', 'IN', 'NN'), ('NNS', 'IN', 'NNS'), ('NNS', 'IN', 'NNP'), ('NNS', 'IN', 'NNPS'), ('NNP', 'IN', 'NN'), ('NNP', 'IN', 'NNS'), ('NNP', 'IN', 'NNP'), ('NNP', 'IN', 'NNPS'), ('NNPS', 'IN', 'NN'), ('NNPS', 'IN', 'NNS'), ('NNPS', 'IN', 'NNP'), ('NNPS', 'IN', 'NNPS')]\n",
      "240\n"
     ]
    }
   ],
   "source": [
    "adjectives = ['JJ', 'JJR', 'JJS']\n",
    "nouns = ['NN', 'NNS', 'NNP', 'NNPS']\n",
    "prepositions = ['IN']\n",
    "\n",
    "patterns = []\n",
    "\n",
    "# adjective-noun\n",
    "patterns.extend([(adj, noun) for adj in adjectives for noun in nouns])\n",
    "\n",
    "# noun-noun\n",
    "patterns.extend([(noun1, noun2) for noun1 in nouns for noun2 in nouns])\n",
    "\n",
    "# adjective-adjective-noun\n",
    "patterns.extend([(adj1, adj2, noun) for adj1 in adjectives for adj2 in adjectives for noun in nouns])\n",
    "\n",
    "# adjective-noun-noun\n",
    "patterns.extend([(adj, noun1, noun2) for adj in adjectives for noun1 in nouns for noun2 in nouns])\n",
    "\n",
    "# noun-adjective-noun\n",
    "patterns.extend([(noun1, adj, noun2) for noun1 in nouns for adj in adjectives for noun2 in nouns])\n",
    "\n",
    "# noun-noun-noun\n",
    "patterns.extend([(noun1, noun2, noun3) for noun1 in nouns for noun2 in nouns for noun3 in nouns])\n",
    "\n",
    "# noun-preposition-noun\n",
    "patterns.extend([(noun1, prep, noun2) for noun1 in nouns for prep in prepositions for noun2 in nouns])\n",
    "\n",
    "# imprimir todas las combinaciones posibles\n",
    "print(patterns)\n",
    "\n",
    "print(len(patterns))\n"
   ]
  }
 ],
 "metadata": {
  "kernelspec": {
   "display_name": "base",
   "language": "python",
   "name": "python3"
  },
  "language_info": {
   "codemirror_mode": {
    "name": "ipython",
    "version": 3
   },
   "file_extension": ".py",
   "mimetype": "text/x-python",
   "name": "python",
   "nbconvert_exporter": "python",
   "pygments_lexer": "ipython3",
   "version": "3.9.13"
  },
  "orig_nbformat": 4
 },
 "nbformat": 4,
 "nbformat_minor": 2
}
