{
 "cells": [
  {
   "cell_type": "code",
   "execution_count": 64,
   "metadata": {},
   "outputs": [],
   "source": [
    "#pip install datasets\n",
    "#pip install keybert"
   ]
  },
  {
   "attachments": {},
   "cell_type": "markdown",
   "metadata": {},
   "source": [
    "Librerías"
   ]
  },
  {
   "cell_type": "code",
   "execution_count": 154,
   "metadata": {},
   "outputs": [
    {
     "name": "stderr",
     "output_type": "stream",
     "text": [
      "[nltk_data] Downloading package punkt to\n",
      "[nltk_data]     C:\\Users\\Alicia\\AppData\\Roaming\\nltk_data...\n",
      "[nltk_data]   Package punkt is already up-to-date!\n",
      "[nltk_data] Downloading package averaged_perceptron_tagger to\n",
      "[nltk_data]     C:\\Users\\Alicia\\AppData\\Roaming\\nltk_data...\n",
      "[nltk_data]   Package averaged_perceptron_tagger is already up-to-\n",
      "[nltk_data]       date!\n",
      "[nltk_data] Downloading package stopwords to\n",
      "[nltk_data]     C:\\Users\\Alicia\\AppData\\Roaming\\nltk_data...\n",
      "[nltk_data]   Package stopwords is already up-to-date!\n"
     ]
    }
   ],
   "source": [
    "import pandas as pd\n",
    "import json\n",
    "import datasets\n",
    "from datasets import load_dataset\n",
    "import nltk\n",
    "nltk.download('punkt')\n",
    "nltk.download('averaged_perceptron_tagger')\n",
    "nltk.download('stopwords')\n",
    "from nltk.corpus import stopwords\n",
    "from keybert import KeyBERT\n",
    "kw_model = KeyBERT()\n",
    "from nltk.tokenize import word_tokenize\n",
    "from nltk import pos_tag\n",
    "import yake\n",
    "import matplotlib.pyplot as plt\n"
   ]
  },
  {
   "attachments": {},
   "cell_type": "markdown",
   "metadata": {},
   "source": [
    "Carga y procesamiento de datos "
   ]
  },
  {
   "cell_type": "code",
   "execution_count": 131,
   "metadata": {},
   "outputs": [
    {
     "name": "stderr",
     "output_type": "stream",
     "text": [
      "Found cached dataset duc2001 (C:/Users/Alicia/.cache/huggingface/datasets/midas___duc2001/generation/0.0.1/7888b46165d8a58f49f00e28410b46b1f22fabfd72a9e89f3e80a4e2d27e4a9b)\n"
     ]
    },
    {
     "data": {
      "application/vnd.jupyter.widget-view+json": {
       "model_id": "201dd69b635046d8b9910ed86d3e6678",
       "version_major": 2,
       "version_minor": 0
      },
      "text/plain": [
       "  0%|          | 0/1 [00:00<?, ?it/s]"
      ]
     },
     "metadata": {},
     "output_type": "display_data"
    },
    {
     "data": {
      "text/plain": [
       "DatasetDict({\n",
       "    test: Dataset({\n",
       "        features: ['id', 'document', 'extractive_keyphrases', 'abstractive_keyphrases'],\n",
       "        num_rows: 308\n",
       "    })\n",
       "})"
      ]
     },
     "execution_count": 131,
     "metadata": {},
     "output_type": "execute_result"
    }
   ],
   "source": [
    "dataset = load_dataset(\"midas/duc2001\", \"generation\")\n",
    "dataset"
   ]
  },
  {
   "cell_type": "code",
   "execution_count": 3,
   "metadata": {},
   "outputs": [
    {
     "data": {
      "text/plain": [
       "DatasetDict({\n",
       "    test: Dataset({\n",
       "        features: ['id', 'document', 'extractive_keyphrases', 'abstractive_keyphrases'],\n",
       "        num_rows: 308\n",
       "    })\n",
       "})"
      ]
     },
     "execution_count": 3,
     "metadata": {},
     "output_type": "execute_result"
    }
   ],
   "source": []
  },
  {
   "cell_type": "code",
   "execution_count": 132,
   "metadata": {},
   "outputs": [
    {
     "name": "stderr",
     "output_type": "stream",
     "text": [
      "Loading cached processed dataset at C:\\Users\\Alicia\\.cache\\huggingface\\datasets\\midas___duc2001\\generation\\0.0.1\\7888b46165d8a58f49f00e28410b46b1f22fabfd72a9e89f3e80a4e2d27e4a9b\\cache-16ebf8679ee254b4.arrow\n"
     ]
    }
   ],
   "source": [
    "def drop_column(dataset):\n",
    "    del dataset['abstractive_keyphrases'] # Para eliminar la columna que no necesitamos\n",
    "    return dataset\n",
    "\n",
    "dataset = dataset.map(drop_column)"
   ]
  },
  {
   "cell_type": "code",
   "execution_count": 133,
   "metadata": {},
   "outputs": [],
   "source": [
    "extractive_keyphrases_list = []\n",
    "\n",
    "for sublista in dataset['test']['extractive_keyphrases']:\n",
    "    sublista_filtrada = [frase for frase in sublista if len(frase.split()) <= 3] # Eliminamos de la columna extractive_keyphrases las keyphrases con n-gramas >3\n",
    "    extractive_keyphrases_list.append(sublista_filtrada)\n"
   ]
  },
  {
   "cell_type": "code",
   "execution_count": 134,
   "metadata": {},
   "outputs": [
    {
     "data": {
      "text/plain": [
       "DatasetDict({\n",
       "    test: Dataset({\n",
       "        features: ['id', 'document', 'extractive_keyphrases'],\n",
       "        num_rows: 308\n",
       "    })\n",
       "})"
      ]
     },
     "execution_count": 134,
     "metadata": {},
     "output_type": "execute_result"
    }
   ],
   "source": [
    "dataset # Hasta aquí tenemos un dataset con las 3 columnas de interés:"
   ]
  },
  {
   "cell_type": "code",
   "execution_count": 135,
   "metadata": {},
   "outputs": [],
   "source": [
    "# guardar el numero de extractive keyphrases que hay para cada doc (esto es necesario para luego calcular la precisión)\n",
    "\n",
    "n_extractive_keyphrases = []\n",
    "for sublista in extractive_keyphrases_list:\n",
    "    num_elementos = len(sublista)\n",
    "    n_extractive_keyphrases.append(num_elementos)"
   ]
  },
  {
   "attachments": {},
   "cell_type": "markdown",
   "metadata": {},
   "source": [
    "Importación stop_words para los modelos"
   ]
  },
  {
   "cell_type": "code",
   "execution_count": 136,
   "metadata": {},
   "outputs": [],
   "source": [
    "stop_words = stopwords.words('english')"
   ]
  },
  {
   "attachments": {},
   "cell_type": "markdown",
   "metadata": {},
   "source": [
    "Combinaciones validas POS tag "
   ]
  },
  {
   "cell_type": "code",
   "execution_count": 137,
   "metadata": {},
   "outputs": [
    {
     "name": "stdout",
     "output_type": "stream",
     "text": [
      "240\n"
     ]
    }
   ],
   "source": [
    "# Combinaciones que nos interesan\n",
    "adjectives = ['JJ', 'JJR', 'JJS']\n",
    "nouns = ['NN', 'NNS', 'NNP', 'NNPS']\n",
    "prepositions = ['IN']\n",
    "\n",
    "patterns = []\n",
    "\n",
    "# adjective-noun\n",
    "patterns.extend([(adj, noun) for adj in adjectives for noun in nouns])\n",
    "\n",
    "# noun-noun\n",
    "patterns.extend([(noun1, noun2) for noun1 in nouns for noun2 in nouns])\n",
    "\n",
    "# adjective-adjective-noun\n",
    "patterns.extend([(adj1, adj2, noun) for adj1 in adjectives for adj2 in adjectives for noun in nouns])\n",
    "\n",
    "# adjective-noun-noun\n",
    "patterns.extend([(adj, noun1, noun2) for adj in adjectives for noun1 in nouns for noun2 in nouns])\n",
    "\n",
    "# noun-adjective-noun\n",
    "patterns.extend([(noun1, adj, noun2) for noun1 in nouns for adj in adjectives for noun2 in nouns])\n",
    "\n",
    "# noun-noun-noun\n",
    "patterns.extend([(noun1, noun2, noun3) for noun1 in nouns for noun2 in nouns for noun3 in nouns])\n",
    "\n",
    "# noun-preposition-noun\n",
    "patterns.extend([(noun1, prep, noun2) for noun1 in nouns for prep in prepositions for noun2 in nouns])\n",
    "\n",
    "# imprimir todas las combinaciones posibles\n",
    "#print(patterns)\n",
    "\n",
    "print(len(patterns))"
   ]
  },
  {
   "attachments": {},
   "cell_type": "markdown",
   "metadata": {},
   "source": [
    "KeyBERT MMR"
   ]
  },
  {
   "cell_type": "code",
   "execution_count": 138,
   "metadata": {},
   "outputs": [],
   "source": [
    "# Aplicación algoritmo KeyBERT\n",
    "MMR_keywords = []\n",
    "MMR_scores = []  \n",
    "\n",
    "for i in range(len(dataset['test'])):\n",
    "    joined_text = \" \".join(dataset['test'][i]['document'])\n",
    "    keywords_row = []\n",
    "    score_row = []  \n",
    "    for keyword_info in kw_model.extract_keywords(joined_text, keyphrase_ngram_range=(1, 3), stop_words=stop_words, use_mmr=True, #nltk lista stop words\n",
    "                                                 top_n=40, diversity=0.7):\n",
    "        keyword, score = keyword_info  # extraer palabra clave y puntuación\n",
    "        keywords_row.append(keyword) \n",
    "        score_row.append(score) \n",
    "    MMR_keywords.append(keywords_row)\n",
    "    MMR_scores.append(score_row)  \n",
    "\n",
    "# A continuación sacamos las categorias gramaticales de cada keyword/keyphrase:\n",
    "MMR_keyphrases_pos = []\n",
    "\n",
    "for keyword_list in MMR_keywords:\n",
    "    sublist_keyphrases_pos = []\n",
    "    for keyword in keyword_list:\n",
    "        palabras = word_tokenize(keyword)\n",
    "        etiquetas = pos_tag(palabras)\n",
    "        sublist_keyphrases_pos.append(etiquetas)\n",
    "    MMR_keyphrases_pos.append(sublist_keyphrases_pos)    \n",
    "\n",
    "# Quitamos las que tienen una combinación diferente a las que nos interesan:   (TAMBIÉN  nos quedamos con las de long 1)\n",
    "MMR_keyphrases_pos_list = []  \n",
    "\n",
    "for i in range(len(MMR_keyphrases_pos)):\n",
    "\n",
    "    filtered_list = list(filter(list, MMR_keyphrases_pos[i])) # quita los elementos que son listas vacías\n",
    "\n",
    "    if len(filtered_list) > 0: #Si queda algun elemento en la lista filtro los patrones válidos. Esto es solo es necesario para las keyphrases con más de un 1-ngram.\n",
    "\n",
    "        valid_patterns = list(filter(lambda y: len(y[1]) == 1 or y[1] in patterns, map(lambda x: [' '.join([pos[0] for pos in x]), tuple([pos[1] for pos in x])], filtered_list)))\n",
    "\n",
    "        MMR_keyphrases_pos_list.append(valid_patterns)\n",
    "    else:\n",
    "        MMR_keyphrases_pos_list.append([])    \n"
   ]
  },
  {
   "attachments": {},
   "cell_type": "markdown",
   "metadata": {},
   "source": [
    "KeyBERT MAXSUM"
   ]
  },
  {
   "cell_type": "code",
   "execution_count": 139,
   "metadata": {},
   "outputs": [],
   "source": [
    "MS_keywords = []\n",
    "MS_scores = []  \n",
    "\n",
    "for i in range(len(dataset['test'])):\n",
    "    joined_text = \" \".join(dataset['test'][i]['document'])\n",
    "    keywords_row = []\n",
    "    score_row = []  \n",
    "    for keyword_info in kw_model.extract_keywords(joined_text, keyphrase_ngram_range=(1, 3), stop_words=stop_words, use_maxsum=True, #nltk lista stop words\n",
    "                                                  nr_candidates=40, top_n=40):\n",
    "        keyword, score = keyword_info  # extraer palabra clave y puntuación\n",
    "        keywords_row.append(keyword) \n",
    "        score_row.append(score) \n",
    "    MS_keywords.append(keywords_row)\n",
    "    MS_scores.append(score_row)  \n",
    "\n",
    "# A continuación sacamos las categorias gramaticales de cada keyword/keyphrase:\n",
    "MS_keyphrases_pos = []\n",
    "\n",
    "for keyword_list in MS_keywords:\n",
    "    sublist_keyphrases_pos = []\n",
    "    for keyword in keyword_list:\n",
    "        palabras = word_tokenize(keyword)\n",
    "        etiquetas = pos_tag(palabras)\n",
    "        sublist_keyphrases_pos.append(etiquetas)\n",
    "    MS_keyphrases_pos.append(sublist_keyphrases_pos)    \n",
    "\n",
    "# Quitamos las que tienen una combinación diferente a las que nos interesan:   (TAMBIÉN  nos quedamos con las de long 1)\n",
    "MS_keyphrases_pos_list = []  \n",
    "\n",
    "for i in range(len(MS_keyphrases_pos)):\n",
    "\n",
    "    filtered_list = list(filter(list, MS_keyphrases_pos[i])) # quita los elementos que son listas vacías\n",
    "\n",
    "    if len(filtered_list) > 0: #Si queda algun elemento en la lista filtro los patrones válidos. Esto es solo es necesario para las keyphrases con más de un 1-ngram.\n",
    "\n",
    "        valid_patterns = list(filter(lambda y: len(y[1]) == 1 or y[1] in patterns, map(lambda x: [' '.join([pos[0] for pos in x]), tuple([pos[1] for pos in x])], filtered_list)))\n",
    "\n",
    "        MS_keyphrases_pos_list.append(valid_patterns)\n",
    "    else:\n",
    "        MS_keyphrases_pos_list.append([]) "
   ]
  },
  {
   "attachments": {},
   "cell_type": "markdown",
   "metadata": {},
   "source": [
    "YAKE"
   ]
  },
  {
   "cell_type": "code",
   "execution_count": 175,
   "metadata": {},
   "outputs": [],
   "source": [
    "language = \"en\"\n",
    "max_ngram_size = 3\n",
    "deduplication_threshold = 0.9\n",
    "deduplication_algo = 'seqm'\n",
    "windowSize = 1\n",
    "numOfKeywords = 40\n",
    "\n",
    "custom_kw_extractor = yake.KeywordExtractor(lan=language, n=max_ngram_size, dedupLim=deduplication_threshold, dedupFunc=deduplication_algo, windowsSize=windowSize, top=numOfKeywords, features=None)\n",
    "\n",
    "Y_keywords = []\n",
    "for i in range(len(dataset['test'])):\n",
    "    joined_text = \" \".join(dataset['test'][i]['document'])\n",
    "    keywords_row = []\n",
    "    for keyword_info in custom_kw_extractor.extract_keywords(joined_text):\n",
    "        keyword, score = keyword_info  # extraer palabra clave y puntuación\n",
    "        keywords_row.append((keyword)) # guardar información en una tupla\n",
    "    Y_keywords.append(keywords_row) # guardar información de palabras clave para cada fila\n",
    "\n",
    "# A continuación sacamos las categorias gramaticales de cada keyword/keyphrase:\n",
    "Y_keyphrases_pos = []\n",
    "\n",
    "for keyword_list in Y_keywords:\n",
    "    sublist_keyphrases_pos = []\n",
    "    for keyword in keyword_list:\n",
    "        palabras = word_tokenize(keyword)\n",
    "        etiquetas = pos_tag(palabras)\n",
    "        sublist_keyphrases_pos.append(etiquetas)\n",
    "    Y_keyphrases_pos.append(sublist_keyphrases_pos)    \n",
    "\n",
    "# Quitamos las que tienen una combinación diferente a las que nos interesan:   (TAMBIÉN  nos quedamos con las de long 1)\n",
    "Y_keyphrases_pos_list = []  \n",
    "\n",
    "for i in range(len(Y_keyphrases_pos)):\n",
    "\n",
    "    filtered_list = list(filter(list, Y_keyphrases_pos[i])) # quita los elementos que son listas vacías\n",
    "\n",
    "    if len(filtered_list) > 0: #Si queda algun elemento en la lista filtro los patrones válidos. Esto es solo es necesario para las keyphrases con más de un 1-ngram.\n",
    "\n",
    "        valid_patterns = list(filter(lambda y: len(y[1]) == 1 or y[1] in patterns, map(lambda x: [' '.join([pos[0] for pos in x]), tuple([pos[1] for pos in x])], filtered_list)))\n",
    "\n",
    "        Y_keyphrases_pos_list.append(valid_patterns)\n",
    "    else:\n",
    "        Y_keyphrases_pos_list.append([]) "
   ]
  },
  {
   "attachments": {},
   "cell_type": "markdown",
   "metadata": {},
   "source": [
    "Cálculo métricas: recall y precisión"
   ]
  },
  {
   "cell_type": "code",
   "execution_count": 176,
   "metadata": {},
   "outputs": [],
   "source": [
    "# Función\n",
    "def n_keyphrases(keyphrases_pos_list, n):\n",
    "    keybert_list = [[elem[0] for elem in sublist] for sublist in keyphrases_pos_list]\n",
    "    keywords = [sublista[:n] for sublista in keybert_list]\n",
    "    n_matches = []\n",
    "    for sub1, sub2 in zip(keywords, extractive_keyphrases_list):\n",
    "        contador = 0\n",
    "        for elem in sub1:\n",
    "            if elem in sub2:\n",
    "                contador += 1\n",
    "        n_matches.append(contador)\n",
    "    \n",
    "    n_keybert_keyphrases = []\n",
    "    for sublista in keyphrases_pos_list:    \n",
    "        num_elementos = len([x for x in sublista if x != []])\n",
    "        n_keybert_keyphrases.append(min(num_elementos, n))  \n",
    "    \n",
    "    recall = [] # Para calcular el recall obtenido en cada doc: n keyphrases obtenidas con keybert que hacen match / las extractive keyphrases que hay para cada doc   (n_matches/n_extractive_keyphrases)\n",
    "    for x, y in zip(n_matches, n_extractive_keyphrases):\n",
    "        recall.append(x / y)\n",
    "    \n",
    "    precision = [] # Para calcular la precisión obtenida en cada doc: n keyphrases obtenidas con keybert que hacen match / n keyphrases obtenidas con keybert para cada doc   (n_matches/n_keybert_keyphrases)\n",
    "    for x, y in zip(n_matches, n_keybert_keyphrases):\n",
    "        if y > 0:\n",
    "            precision.append(x / y)\n",
    "        else:\n",
    "            precision.append(0.0)\n",
    "    \n",
    "    recall_mean = sum(recall) / len(recall)\n",
    "    precision_mean = sum(precision) / len(precision)\n",
    "    \n",
    "    return  recall_mean, precision_mean\n"
   ]
  },
  {
   "cell_type": "code",
   "execution_count": 185,
   "metadata": {},
   "outputs": [
    {
     "name": "stdout",
     "output_type": "stream",
     "text": [
      "MMR Overall Recall: [0.021, 0.026, 0.034, 0.038, 0.042]\n",
      "MMR Overall Precision: [0.039, 0.029, 0.019, 0.018, 0.014]\n",
      "MS Overall Recall: [0.028, 0.045, 0.092, 0.127, 0.209]\n",
      "MS Overall Precision: [0.061, 0.059, 0.063, 0.072, 0.08]\n",
      "Y Overall Recall: [0.02, 0.03, 0.079, 0.094, 0.151]\n",
      "Y Overall Precision: [0.039, 0.036, 0.049, 0.049, 0.049]\n"
     ]
    }
   ],
   "source": [
    "# Aplicación función\n",
    "n_values = [3, 5, 10, 12, 20]\n",
    "\n",
    "# MMR\n",
    "MMR_overall_recall = []\n",
    "MMR_overall_precision = []\n",
    "\n",
    "for n in n_values:\n",
    "    recall_mean, precision_mean = n_keyphrases(MMR_keyphrases_pos_list, n)\n",
    "    MMR_overall_recall.append(round(recall_mean, 3))\n",
    "    MMR_overall_precision.append(round(precision_mean, 3))\n",
    "\n",
    "print(\"MMR Overall Recall:\", MMR_overall_recall)\n",
    "print(\"MMR Overall Precision:\", MMR_overall_precision)\n",
    "\n",
    "# MS\n",
    "MS_overall_recall = []\n",
    "MS_overall_precision = []\n",
    "\n",
    "for n in n_values:\n",
    "    recall_mean, precision_mean = n_keyphrases(MS_keyphrases_pos_list, n)\n",
    "    MS_overall_recall.append(round(recall_mean, 3))\n",
    "    MS_overall_precision.append(round(precision_mean, 3))\n",
    "\n",
    "print(\"MS Overall Recall:\", MS_overall_recall)\n",
    "print(\"MS Overall Precision:\", MS_overall_precision)\n",
    "\n",
    "# YAKE\n",
    "Y_overall_recall = []\n",
    "Y_overall_precision = []\n",
    "\n",
    "for n in n_values:\n",
    "    recall_mean, precision_mean = n_keyphrases(Y_keyphrases_pos_list, n)\n",
    "    Y_overall_recall.append(round(recall_mean, 3))\n",
    "    Y_overall_precision.append(round(precision_mean, 3))\n",
    "\n",
    "print(\"Y Overall Recall:\", Y_overall_recall)\n",
    "print(\"Y Overall Precision:\", Y_overall_precision)\n",
    "\n"
   ]
  },
  {
   "cell_type": "code",
   "execution_count": 186,
   "metadata": {},
   "outputs": [
    {
     "data": {
      "image/png": "[encoded data removed]",
      "text/plain": [
       "<Figure size 1000x500 with 2 Axes>"
      ]
     },
     "metadata": {},
     "output_type": "display_data"
    }
   ],
   "source": [
    "# Plot Precision and Recall side by side\n",
    "fig, axs = plt.subplots(1, 2, figsize=(10, 5))\n",
    "\n",
    "# Plot Precision\n",
    "axs[0].plot(n_values, MMR_overall_precision, marker='o', label='MMR')\n",
    "axs[0].plot(n_values, MS_overall_precision, marker='o', label='MS')\n",
    "axs[0].plot(n_values, Y_overall_precision, marker='o', label='Y')\n",
    "\n",
    "axs[0].set_xlabel('n')\n",
    "axs[0].set_ylabel('Precision')\n",
    "axs[0].set_title('Precision vs. n')\n",
    "axs[0].legend()\n",
    "axs[0].grid(True)\n",
    "axs[0].set_xticks(n_values)\n",
    "\n",
    "# Plot Recall\n",
    "axs[1].plot(n_values, MMR_overall_recall, marker='o', label='MMR')\n",
    "axs[1].plot(n_values, MS_overall_recall, marker='o', label='MS')\n",
    "axs[1].plot(n_values, Y_overall_recall, marker='o', label='Y')\n",
    "\n",
    "axs[1].set_xlabel('n')\n",
    "axs[1].set_ylabel('Recall')\n",
    "axs[1].set_title('Recall vs. n')\n",
    "axs[1].legend()\n",
    "axs[1].grid(True)\n",
    "axs[1].set_xticks(n_values)\n",
    "\n",
    "plt.tight_layout()\n",
    "plt.show()\n"
   ]
  },
  {
   "attachments": {},
   "cell_type": "markdown",
   "metadata": {},
   "source": [
    "#######################################################################################################################################################################################"
   ]
  },
  {
   "attachments": {},
   "cell_type": "markdown",
   "metadata": {},
   "source": [
    "#######################################################################################################################################################################################"
   ]
  }
 ],
 "metadata": {
  "kernelspec": {
   "display_name": "base",
   "language": "python",
   "name": "python3"
  },
  "language_info": {
   "codemirror_mode": {
    "name": "ipython",
    "version": 3
   },
   "file_extension": ".py",
   "mimetype": "text/x-python",
   "name": "python",
   "nbconvert_exporter": "python",
   "pygments_lexer": "ipython3",
   "version": "3.9.13"
  },
  "orig_nbformat": 4,
  "vscode": {
   "interpreter": {
    "hash": "ab9dda7a71044a2bd7800d9551f7901374363be9e76ce9aaf5690813ea591cd8"
   }
  }
 },
 "nbformat": 4,
 "nbformat_minor": 2
}
